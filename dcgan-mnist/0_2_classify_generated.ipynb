{
 "cells": [
  {
   "cell_type": "markdown",
   "id": "7aeef902",
   "metadata": {},
   "source": [
    "# **Classify Generated Samples (Feedback Simulation)**"
   ]
  },
  {
   "cell_type": "code",
   "execution_count": 1,
   "id": "4b087216",
   "metadata": {},
   "outputs": [],
   "source": [
    "import torch\n",
    "import networks as nws\n",
    "import utils\n",
    "import os\n",
    "import matplotlib.pyplot as plt"
   ]
  },
  {
   "cell_type": "code",
   "execution_count": 2,
   "id": "c5b8e828",
   "metadata": {},
   "outputs": [
    {
     "name": "stdout",
     "output_type": "stream",
     "text": [
      "cuda:0\n"
     ]
    },
    {
     "name": "stderr",
     "output_type": "stream",
     "text": [
      "C:\\Users\\Admin\\AppData\\Local\\Temp\\ipykernel_6056\\2297317714.py:10: FutureWarning: You are using `torch.load` with `weights_only=False` (the current default value), which uses the default pickle module implicitly. It is possible to construct malicious pickle data which will execute arbitrary code during unpickling (See https://github.com/pytorch/pytorch/blob/main/SECURITY.md#untrusted-models for more details). In a future release, the default value for `weights_only` will be flipped to `True`. This limits the functions that could be executed during unpickling. Arbitrary objects will no longer be allowed to be loaded via this mode unless they are explicitly allowlisted by the user via `torch.serialization.add_safe_globals`. We recommend you start setting `weights_only=True` for any use case where you don't have full control of the loaded file. Please open an issue on GitHub for any issues related to this experimental feature.\n",
      "  G_final.load_state_dict(torch.load(f'{original_save_dir}/gen_MNIST_full_v{version}_nz={nz}_epochs={original_train_epochs}.pth'))\n",
      "C:\\Users\\Admin\\AppData\\Local\\Temp\\ipykernel_6056\\2297317714.py:13: FutureWarning: You are using `torch.load` with `weights_only=False` (the current default value), which uses the default pickle module implicitly. It is possible to construct malicious pickle data which will execute arbitrary code during unpickling (See https://github.com/pytorch/pytorch/blob/main/SECURITY.md#untrusted-models for more details). In a future release, the default value for `weights_only` will be flipped to `True`. This limits the functions that could be executed during unpickling. Arbitrary objects will no longer be allowed to be loaded via this mode unless they are explicitly allowlisted by the user via `torch.serialization.add_safe_globals`. We recommend you start setting `weights_only=True` for any use case where you don't have full control of the loaded file. Please open an issue on GitHub for any issues related to this experimental feature.\n",
      "  classifier.load_state_dict(torch.load(f'classifier/mnist_classifier.pth'))\n"
     ]
    },
    {
     "data": {
      "text/plain": [
       "<All keys matched successfully>"
      ]
     },
     "execution_count": 2,
     "metadata": {},
     "output_type": "execute_result"
    }
   ],
   "source": [
    "device = torch.device(\"cuda:0\" if (torch.cuda.is_available()) else \"cpu\")\n",
    "print(device)\n",
    "\n",
    "nz = 128\n",
    "version = 3\n",
    "G_final = nws.Generator(version=version, nz=nz).to(device)\n",
    "\n",
    "original_train_epochs = 300\n",
    "original_save_dir = \"checkpoints_original\"\n",
    "G_final.load_state_dict(torch.load(f'{original_save_dir}/gen_MNIST_full_v{version}_nz={nz}_epochs={original_train_epochs}.pth'))\n",
    "\n",
    "classifier = nws.CNN_Classifier().to(device)\n",
    "classifier.load_state_dict(torch.load(f'classifier/mnist_classifier.pth'))"
   ]
  },
  {
   "cell_type": "code",
   "execution_count": 3,
   "id": "1c11ddc9",
   "metadata": {},
   "outputs": [],
   "source": [
    "generated = utils.generate_folder(G_final, nz, device, examples=5000)\n",
    "predicted_labels = utils.classify(classifier, generated, device)"
   ]
  },
  {
   "cell_type": "code",
   "execution_count": null,
   "id": "30a7bfbd",
   "metadata": {},
   "outputs": [],
   "source": [
    "target_class = 8  # `1` or `8`\n",
    "undesired_folder = f\"MNIST_ul{target_class}_data/{target_class}/data\"\n",
    "desired_folder = f\"MNIST_ul{target_class}_data/no{target_class}/data\"\n",
    "os.makedirs(undesired_folder, exist_ok=True)\n",
    "os.makedirs(desired_folder, exist_ok=True)\n",
    "\n",
    "for i, (data, label) in enumerate(zip(generated, predicted_labels)):\n",
    "    image = data.permute(1, 2, 0)\n",
    "    image = image.numpy()\n",
    "    image = image.reshape(image.shape[0], image.shape[1])\n",
    "\n",
    "    if label == target_class:\n",
    "        file_name = f\"undesired_{i + 1}.jpg\"\n",
    "        plt.imsave(os.path.join(undesired_folder, file_name), image, cmap=\"gray\")\n",
    "    else:\n",
    "        file_name = f\"desired_{i + 1}.jpg\"\n",
    "        plt.imsave(os.path.join(desired_folder, file_name), image, cmap=\"gray\")\n"
   ]
  }
 ],
 "metadata": {
  "kernelspec": {
   "display_name": "thesis",
   "language": "python",
   "name": "python3"
  },
  "language_info": {
   "codemirror_mode": {
    "name": "ipython",
    "version": 3
   },
   "file_extension": ".py",
   "mimetype": "text/x-python",
   "name": "python",
   "nbconvert_exporter": "python",
   "pygments_lexer": "ipython3",
   "version": "3.12.4"
  }
 },
 "nbformat": 4,
 "nbformat_minor": 5
}
